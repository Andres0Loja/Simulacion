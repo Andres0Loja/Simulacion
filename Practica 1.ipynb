{
 "cells": [
  {
   "cell_type": "markdown",
   "metadata": {},
   "source": [
    "# Probabilidad Dados"
   ]
  },
  {
   "cell_type": "code",
   "execution_count": 8,
   "metadata": {},
   "outputs": [
    {
     "name": "stdout",
     "output_type": "stream",
     "text": [
      "Lanzar 100 veces\n"
     ]
    },
    {
     "data": {
      "image/png": "[encoded data removed]",
      "text/plain": [
       "<Figure size 432x288 with 1 Axes>"
      ]
     },
     "metadata": {
      "needs_background": "light"
     },
     "output_type": "display_data"
    },
    {
     "name": "stdout",
     "output_type": "stream",
     "text": [
      "Total 2 Frecuencia 9 Probabilidad 0.25\n",
      "Total 3 Frecuencia 9 Probabilidad 0.25\n",
      "Total 4 Frecuencia 11 Probabilidad 0.3055555555555556\n",
      "Total 5 Frecuencia 8 Probabilidad 0.2222222222222222\n",
      "Total 6 Frecuencia 7 Probabilidad 0.19444444444444445\n",
      "Total 7 Frecuencia 5 Probabilidad 0.1388888888888889\n",
      "Total 8 Frecuencia 7 Probabilidad 0.19444444444444445\n",
      "Total 9 Frecuencia 7 Probabilidad 0.19444444444444445\n",
      "Total 10 Frecuencia 8 Probabilidad 0.2222222222222222\n",
      "Total 11 Frecuencia 6 Probabilidad 0.16666666666666666\n",
      "Total 12 Frecuencia 7 Probabilidad 0.19444444444444445\n",
      "\n",
      "Lanzar 1000 veces\n"
     ]
    },
    {
     "data": {
      "image/png": "[encoded data removed]",
      "text/plain": [
       "<Figure size 432x288 with 1 Axes>"
      ]
     },
     "metadata": {
      "needs_background": "light"
     },
     "output_type": "display_data"
    },
    {
     "name": "stdout",
     "output_type": "stream",
     "text": [
      "Total 2 Frecuencia 10 Probabilidad 0.25\n",
      "Total 3 Frecuencia 7 Probabilidad 0.25\n",
      "Total 4 Frecuencia 6 Probabilidad 0.3055555555555556\n",
      "Total 5 Frecuencia 6 Probabilidad 0.2222222222222222\n",
      "Total 6 Frecuencia 8 Probabilidad 0.19444444444444445\n",
      "Total 7 Frecuencia 6 Probabilidad 0.1388888888888889\n",
      "Total 8 Frecuencia 3 Probabilidad 0.19444444444444445\n",
      "Total 9 Frecuencia 10 Probabilidad 0.19444444444444445\n",
      "Total 10 Frecuencia 5 Probabilidad 0.2222222222222222\n",
      "Total 11 Frecuencia 11 Probabilidad 0.16666666666666666\n",
      "Total 12 Frecuencia 6 Probabilidad 0.19444444444444445\n",
      "\n",
      "Lanzar 10000 veces\n"
     ]
    },
    {
     "data": {
      "image/png": "[encoded data removed]",
      "text/plain": [
       "<Figure size 432x288 with 1 Axes>"
      ]
     },
     "metadata": {
      "needs_background": "light"
     },
     "output_type": "display_data"
    },
    {
     "name": "stdout",
     "output_type": "stream",
     "text": [
      "Total 2 Frecuencia 10 Probabilidad 0.25\n",
      "Total 3 Frecuencia 9 Probabilidad 0.25\n",
      "Total 4 Frecuencia 6 Probabilidad 0.3055555555555556\n",
      "Total 5 Frecuencia 10 Probabilidad 0.2222222222222222\n",
      "Total 6 Frecuencia 5 Probabilidad 0.19444444444444445\n",
      "Total 7 Frecuencia 12 Probabilidad 0.1388888888888889\n",
      "Total 8 Frecuencia 7 Probabilidad 0.19444444444444445\n",
      "Total 9 Frecuencia 7 Probabilidad 0.19444444444444445\n",
      "Total 10 Frecuencia 5 Probabilidad 0.2222222222222222\n",
      "Total 11 Frecuencia 5 Probabilidad 0.16666666666666666\n",
      "Total 12 Frecuencia 5 Probabilidad 0.19444444444444445\n",
      "\n"
     ]
    }
   ],
   "source": [
    "import random\n",
    "import pandas as pd\n",
    "import numpy as np\n",
    "import matplotlib.pyplot as plt\n",
    "\n",
    "class dados:\n",
    "    lados_dados=[2,3,4,5,6,7,8,9,10,11,12]\n",
    "    frecuencia = []\n",
    "    probabilidad = []\n",
    "    mprobabilidad=[]\n",
    "    def suma(self,ndatos):\n",
    "        vector_sumas=[]\n",
    "        for i in range(ndatos):\n",
    "            dado1= random.randint(1,6)\n",
    "            dado2= random.randint(1,6)\n",
    "            suma_random= dado1+dado2\n",
    "            vector_sumas.append(suma_random)\n",
    "        self.grafica(vector_sumas) \n",
    "        return vector_sumas\n",
    "\n",
    "    def calculo_probabilidad(self,frecuencia):\n",
    "        total=0\n",
    "        for i in frecuencia:\n",
    "            total=i / 36\n",
    "            self.mprobabilidad.append(total)\n",
    "        return self.mprobabilidad\n",
    "    \n",
    "    def resultado(self,cantidad):\n",
    "        sum=self.suma(cantidad)\n",
    "        frecuencia=(sum)\n",
    "        pro=self.calculo_probabilidad(frecuencia)\n",
    "        for i,j,k in zip(self.lados_dados,frecuencia,pro):\n",
    "            print('Total',i,'Frecuencia',j,'Probabilidad',k)\n",
    "            self.frecuencia.append(i)\n",
    "\n",
    "    def grafica(self,i):\n",
    "        plt.hist(i,width=0.4,alpha=0.8,edgecolor='black',facecolor='grey')\n",
    "        plt.xlabel('Lados')\n",
    "        plt.ylabel('Probabilidad')\n",
    "        plt.title('GRAFICA')\n",
    "        plt.show()\n",
    "        \n",
    "if __name__==\"__main__\":\n",
    "    dados = dados()\n",
    "    print(\"Lanzar 100 veces\")\n",
    "    dados.resultado(100)\n",
    "    print()\n",
    "    print(\"Lanzar 1000 veces\")\n",
    "    dados.resultado(1000)\n",
    "    print()\n",
    "    print(\"Lanzar 10000 veces\")\n",
    "    dados.resultado(10000)\n",
    "    print()"
   ]
  },
  {
   "cell_type": "markdown",
   "metadata": {},
   "source": [
    "## Conclusion"
   ]
  },
  {
   "cell_type": "markdown",
   "metadata": {},
   "source": [
    "El grafico de campana nos permite visualizar de una mejor manera l"
   ]
  }
 ],
 "metadata": {
  "kernelspec": {
   "display_name": "Python 3",
   "language": "python",
   "name": "python3"
  },
  "language_info": {
   "codemirror_mode": {
    "name": "ipython",
    "version": 3
   },
   "file_extension": ".py",
   "mimetype": "text/x-python",
   "name": "python",
   "nbconvert_exporter": "python",
   "pygments_lexer": "ipython3",
   "version": "3.7.6"
  }
 },
 "nbformat": 4,
 "nbformat_minor": 4
}
