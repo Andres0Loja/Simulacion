{
 "cells": [
  {
   "cell_type": "markdown",
   "metadata": {},
   "source": [
    "# Deber Simpy"
   ]
  },
  {
   "cell_type": "markdown",
   "metadata": {},
   "source": [
    "## 1. Instalación de Simpy\n",
    "Simpy en pyhon\n",
    "pip3 install -U simpy"
   ]
  },
  {
   "cell_type": "code",
   "execution_count": 2,
   "metadata": {},
   "outputs": [
    {
     "name": "stdout",
     "output_type": "stream",
     "text": [
      "R. Rapido > 0\n",
      "R. Lento > 0\n",
      "R. Rapido > 0.25\n",
      "R. Lento > 0.5\n",
      "R. Rapido > 0.5\n",
      "R. Rapido > 0.75\n",
      "R. Lento > 1.0\n",
      "R. Rapido > 1.0\n",
      "R. Rapido > 1.25\n",
      "R. Lento > 1.5\n",
      "R. Rapido > 1.5\n",
      "R. Rapido > 1.75\n",
      "R. Lento > 2.0\n",
      "R. Rapido > 2.0\n"
     ]
    }
   ],
   "source": [
    "import simpy\n",
    "def reloj(env, nombre, tiempo):\n",
    "    while True:\n",
    "        print(nombre,\">\",env.now) \n",
    "        yield env.timeout(tiempo)\n",
    "        \n",
    "env=simpy.Environment() \n",
    "env.process(reloj(env, 'R. Rapido',0.25)) \n",
    "env.process(reloj(env, 'R. Lento',0.5)) \n",
    "\n",
    "env.run(until=2.1)"
   ]
  },
  {
   "cell_type": "markdown",
   "metadata": {},
   "source": [
    "##  Ejemplo del negocio de lavado de autos\n",
    "\n",
    "Este ejemplo permite simular un negocio de lavado de automóviles. De igual forma, es importante destacar que este ejemplo aborda los siguientes puntos:\n",
    "\n",
    "\n",
    "\n",
    "## Características del sistema real a simular\n",
    "\n",
    "SimPy es un marco de simulación de eventos discretos basado en procesos basado en Python estándar . Su despachador de eventos se basa en los generadores de Python y también se puede utilizar para redes asincrónicas o para implementar sistemas multiagente (con comunicación tanto simulada como real).\n",
    "\n",
    "Los procesos en SimPy son funciones simples del generador de Python y se utilizan para modelar componentes activos como clientes, vehículos o agentes. SimPy también proporciona varios tipos de recursos compartidos para modelar puntos de congestión de capacidad limitada (como servidores, contadores de pago y túneles). A partir de la versión 3.1, también proporcionará capacidades de supervisión para ayudar a recopilar estadísticas sobre recursos y procesos.\n",
    "\n",
    "Las simulaciones se pueden realizar \"lo más rápido posible\", en tiempo real (tiempo de reloj de pared) o pasando manualmente por los eventos.\n",
    "\n",
    "Aunque teóricamente es posible hacer simulaciones continuas con SimPy, no tiene características para realizar eso. Sin embargo, SimPy es excesivo para las simulaciones con un tamaño de paso fijo en el que sus procesos no interactúan entre sí o con recursos compartidos; utilice un whileciclo simple en este caso.\n",
    "\n",
    "La distribución SimPy contiene tutoriales, documentación detallada y una gran cantidad de ejemplos.\n",
    "\n",
    "SimPy se lanza como software de código abierto bajo la licencia MIT . La primera versión se lanzó en diciembre de 2002."
   ]
  },
  {
   "cell_type": "code",
   "execution_count": 3,
   "metadata": {},
   "outputs": [
    {
     "name": "stdout",
     "output_type": "stream",
     "text": [
      "Lavanderia UPS\n",
      "Llega vehiculo: Vehiculo-1 a la hora 0.00.\n",
      "Llega vehiculo: Vehiculo-2 a la hora 0.00.\n",
      "Llega vehiculo: Vehiculo-3 a la hora 0.00.\n",
      "Llega vehiculo: Vehiculo-4 a la hora 0.00.\n",
      "Llega vehiculo: Vehiculo-5 a la hora 0.00.\n",
      "Entra vehiculo a lavarse: Vehiculo-1 a la hora 0.00.\n",
      "Entra vehiculo a lavarse: Vehiculo-2 a la hora 0.00.\n",
      "Entra vehiculo a lavarse: Vehiculo-3 a la hora 0.00.\n",
      "Llega vehiculo: Vehiculo-6 a la hora 7.00.\n",
      "Removido  {70%} suciedad vehiculo => Vehiculo-1 \n",
      "Removido  {51%} suciedad vehiculo => Vehiculo-2 \n",
      "Removido  {31%} suciedad vehiculo => Vehiculo-3 \n",
      "Vehiculo [Vehiculo-1] lavado a las 7.00.\n",
      "Vehiculo [Vehiculo-2] lavado a las 7.00.\n",
      "Vehiculo [Vehiculo-3] lavado a las 7.00.\n",
      "Entra vehiculo a lavarse: Vehiculo-4 a la hora 7.00.\n",
      "Entra vehiculo a lavarse: Vehiculo-5 a la hora 7.00.\n",
      "Entra vehiculo a lavarse: Vehiculo-6 a la hora 7.00.\n",
      "Removido  {56%} suciedad vehiculo => Vehiculo-4 \n",
      "Removido  {47%} suciedad vehiculo => Vehiculo-5 \n",
      "Removido  {81%} suciedad vehiculo => Vehiculo-6 \n",
      "Vehiculo [Vehiculo-4] lavado a las 14.00.\n",
      "Vehiculo [Vehiculo-5] lavado a las 14.00.\n",
      "Vehiculo [Vehiculo-6] lavado a las 14.00.\n",
      "Llega vehiculo: Vehiculo-7 a la hora 16.00.\n",
      "Entra vehiculo a lavarse: Vehiculo-7 a la hora 16.00.\n"
     ]
    }
   ],
   "source": [
    "import simpy\n",
    "import random\n",
    "\n",
    "MAX_VEHICULOS = 57\n",
    "NUM_MAQUINAS = 3\n",
    "TIEMPO_LAVADO = 7\n",
    "INTERVALO_LLEGADA = 9\n",
    "TIEMPO_SIMULACION = 23\n",
    "\n",
    "class Lavanderia(object):\n",
    "    \n",
    "    def __init__(self, environment, num_maquinas, tiempo_lavado):\n",
    "        self.env=environment\n",
    "        self.maquinas = simpy.Resource(environment, num_maquinas)\n",
    "        self.tiempo_lavado = tiempo_lavado\n",
    "        \n",
    "    def lavar_vehiculo(self, vehiculo):\n",
    "        yield self.env.timeout(TIEMPO_LAVADO)\n",
    "        print('Removido  {%d%%} suciedad vehiculo => %s ' \\\n",
    "              % (random.randint(30,90), vehiculo))\n",
    "        \n",
    "    \n",
    "def llegada_vehiculo(env, nombre, lavanderia):\n",
    "    print('Llega vehiculo: %s a la hora %.2f.' % (nombre, env.now))\n",
    "    with lavanderia.maquinas.request() as maquina:\n",
    "        yield maquina\n",
    "        print('Entra vehiculo a lavarse: %s a la hora %.2f.' % (nombre, env.now))\n",
    "        yield env.process(lavanderia.lavar_vehiculo(nombre))\n",
    "        print('Vehiculo [%s] lavado a las %.2f.' % (nombre, env.now))  \n",
    "    \n",
    "def ejecutar_simulacion(env, num_maquinas, tiempo_lavado, intervalo):\n",
    "    lavanderia=Lavanderia(env, num_maquinas, tiempo_lavado)\n",
    "    for i in range(5):\n",
    "        env.process(llegada_vehiculo(env, 'Vehiculo-%d'%(i+1),lavanderia))\n",
    "    while True:\n",
    "        yield env.timeout(random.randint(intervalo-2, intervalo+2))\n",
    "        i+=1\n",
    "        env.process(llegada_vehiculo(env,'Vehiculo-%d'%(i+1),lavanderia))\n",
    "\n",
    "print('Lavanderia UPS')\n",
    "env=simpy.Environment()\n",
    "env.process(ejecutar_simulacion(env, NUM_MAQUINAS, TIEMPO_LAVADO, INTERVALO_LLEGADA))\n",
    "env.run(until = TIEMPO_SIMULACION)"
   ]
  }
 ],
 "metadata": {
  "kernelspec": {
   "display_name": "Python 3",
   "language": "python",
   "name": "python3"
  },
  "language_info": {
   "codemirror_mode": {
    "name": "ipython",
    "version": 3
   },
   "file_extension": ".py",
   "mimetype": "text/x-python",
   "name": "python",
   "nbconvert_exporter": "python",
   "pygments_lexer": "ipython3",
   "version": "3.7.6"
  }
 },
 "nbformat": 4,
 "nbformat_minor": 2
}
