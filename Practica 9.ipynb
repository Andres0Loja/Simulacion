{
 "cells": [
  {
   "cell_type": "markdown",
   "metadata": {},
   "source": [
    "# Simpy"
   ]
  },
  {
   "cell_type": "code",
   "execution_count": 2,
   "metadata": {},
   "outputs": [
    {
     "name": "stdout",
     "output_type": "stream",
     "text": [
      "Lavanderia UPS\n",
      "Llega vehiculo: Vehiculo-1 a la hora 0.00.\n",
      "Llega vehiculo: Vehiculo-2 a la hora 0.00.\n",
      "Llega vehiculo: Vehiculo-3 a la hora 0.00.\n",
      "Llega vehiculo: Vehiculo-4 a la hora 0.00.\n",
      "Llega vehiculo: Vehiculo-5 a la hora 0.00.\n",
      "Entra vehiculo a lavarse: Vehiculo-1 a la hora 0.00.\n",
      "Entra vehiculo a lavarse: Vehiculo-2 a la hora 0.00.\n",
      "Entra vehiculo a lavarse: Vehiculo-3 a la hora 0.00.\n",
      "Llega vehiculo: Vehiculo-6 a la hora 4.00.\n",
      "Removido  {84%} suciedad vehiculo => Vehiculo-1 \n",
      "Vehiculo [Vehiculo-1] lavado a las 7.00.\n",
      "Entra vehiculo a lavarse: Vehiculo-4 a la hora 7.00.\n",
      "Removido  {72%} suciedad vehiculo => Vehiculo-2 \n",
      "Vehiculo [Vehiculo-2] lavado a las 8.00.\n",
      "Entra vehiculo a lavarse: Vehiculo-5 a la hora 8.00.\n",
      "Llega vehiculo: Vehiculo-7 a la hora 10.00.\n",
      "Removido  {65%} suciedad vehiculo => Vehiculo-5 \n",
      "Vehiculo [Vehiculo-5] lavado a las 13.00.\n",
      "Entra vehiculo a lavarse: Vehiculo-6 a la hora 13.00.\n",
      "Removido  {58%} suciedad vehiculo => Vehiculo-3 \n",
      "Vehiculo [Vehiculo-3] lavado a las 15.00.\n",
      "Entra vehiculo a lavarse: Vehiculo-7 a la hora 15.00.\n",
      "Llega vehiculo: Vehiculo-8 a la hora 16.00.\n",
      "Llega vehiculo: Vehiculo-9 a la hora 18.00.\n",
      "Removido  {78%} suciedad vehiculo => Vehiculo-4 \n",
      "Llega vehiculo: Vehiculo-10 a la hora 21.00.\n",
      "Vehiculo [Vehiculo-4] lavado a las 21.00.\n",
      "Entra vehiculo a lavarse: Vehiculo-8 a la hora 21.00.\n",
      "Removido  {88%} suciedad vehiculo => Vehiculo-6 \n",
      "Llega vehiculo: Vehiculo-11 a la hora 24.00.\n",
      "Vehiculo [Vehiculo-6] lavado a las 24.00.\n",
      "Entra vehiculo a lavarse: Vehiculo-9 a la hora 24.00.\n",
      "Llega vehiculo: Vehiculo-12 a la hora 26.00.\n",
      "Diccionario timepo :\n",
      "{'Vehiculo-1': 7, 'Vehiculo-2': 8, 'Vehiculo-5': 13, 'Vehiculo-3': 15, 'Vehiculo-4': 21, 'Vehiculo-6': 24}\n"
     ]
    }
   ],
   "source": [
    "import simpy\n",
    "import random\n",
    "import matplotlib.pyplot as pp\n",
    "\n",
    "%matplotlib inline\n",
    "MAX_VEHICULOS = 57\n",
    "NUM_MAQUINAS = 3\n",
    "TIEMPO_LAVADO = 10 \n",
    "INTERVALO_LLEGADA = 3\n",
    "TIEMPO_SIMULACION = 27\n",
    "\n",
    "tiempo={}\n",
    "\n",
    "class Lavanderia(object):\n",
    "    \n",
    "    def __init__(self, environment, num_maquinas, tiempo_lavado):\n",
    "        self.env=environment\n",
    "        self.maquinas = simpy.Resource(environment, num_maquinas)\n",
    "        self.tiempo_lavado = tiempo_lavado\n",
    "        \n",
    "    def lavar_vehiculo(self, vehiculo):\n",
    "        yield self.env.timeout(random.randint(TIEMPO_LAVADO-5, TIEMPO_LAVADO+5))\n",
    "        print('Removido  {%d%%} suciedad vehiculo => %s ' % (random.randint(30,90), vehiculo))\n",
    "        \n",
    "    \n",
    "def llegada_vehiculo(env, nombre, lavanderia):\n",
    "    print('Llega vehiculo: %s a la hora %.2f.' % (nombre, env.now))\n",
    "    with lavanderia.maquinas.request() as maquina:\n",
    "        yield maquina\n",
    "        print('Entra vehiculo a lavarse: %s a la hora %.2f.' % (nombre, env.now))\n",
    "        yield env.process(lavanderia.lavar_vehiculo(nombre))\n",
    "        print('Vehiculo [%s] lavado a las %.2f.' % (nombre, env.now))\n",
    "        tiempo[nombre]=env.now\n",
    "    \n",
    "def ejecutar_simulacion(env, num_maquinas, tiempo_lavado, intervalo):\n",
    "    lavanderia=Lavanderia(env, num_maquinas, tiempo_lavado)\n",
    "    for i in range(5):\n",
    "        env.process(llegada_vehiculo(env, 'Vehiculo-%d'%(i+1),lavanderia))\n",
    "    while True:\n",
    "        yield env.timeout(random.randint(intervalo-3, intervalo+3))\n",
    "        i+=1\n",
    "        env.process(llegada_vehiculo(env,'Vehiculo-%d'%(i+1),lavanderia))\n",
    "\n",
    "print('Lavanderia UPS')\n",
    "env=simpy.Environment()\n",
    "env.process(ejecutar_simulacion(env, NUM_MAQUINAS, TIEMPO_LAVADO, INTERVALO_LLEGADA))\n",
    "env.run(until = TIEMPO_SIMULACION)\n",
    "\n",
    "print(\"Diccionario timepo :\")\n",
    "print(tiempo)"
   ]
  },
  {
   "cell_type": "code",
   "execution_count": 3,
   "metadata": {},
   "outputs": [
    {
     "data": {
      "image/png": "[encoded data removed]",
      "text/plain": [
       "<Figure size 432x288 with 1 Axes>"
      ]
     },
     "metadata": {
      "needs_background": "light"
     },
     "output_type": "display_data"
    }
   ],
   "source": [
    "datos=sorted(tiempo.items())\n",
    "x, y =zip(*datos)\n",
    "pp.plot(x,y,linewidth=2,color='red')\n",
    "pp.scatter(x,y,color='blue')\n",
    "pp.title(\"Vehiculos Atenndidos X Tiempo\")\n",
    "pp.grid(True)\n",
    "pp.show()"
   ]
  },
  {
   "cell_type": "markdown",
   "metadata": {},
   "source": [
    "## Paremetrizando la simulacion\n",
    "\n",
    "* Considerar 3 tipos de vehículos con 3 diferentes tiempos de lavado:\n",
    "    * Bus: 20 minutos\n",
    "    * Automóvil: 7 minutos\n",
    "    * Furgoneta: 12 minutos\n",
    "* Considere que a partir de la entrada del vehículo para ser lavado, deberán tomarse en cuenta los siguientes tiempos correspondientes al proceso de traslado desde la recepción a la máquina de lavado:\n",
    "    * Bus: 4 minutos\n",
    "    * Automóvil: 1 minuto\n",
    "    * Furgoneta: 2 minutos\n",
    "* Realice una gráfica de la simulación con 3 máquinas de lavado"
   ]
  },
  {
   "cell_type": "code",
   "execution_count": 4,
   "metadata": {},
   "outputs": [
    {
     "name": "stdout",
     "output_type": "stream",
     "text": [
      "Lavanderia UPS\n",
      "Llega vehiculo: Bus-1 a la hora 0.00.\n",
      "Llega vehiculo: Automovil-1 a la hora 0.00.\n",
      "Llega vehiculo: Furgoneta-1 a la hora 0.00.\n",
      "Llega vehiculo: Bus-2 a la hora 0.00.\n",
      "Llega vehiculo: Automovil-2 a la hora 0.00.\n",
      "Llega vehiculo: Furgoneta-2 a la hora 0.00.\n",
      "Se traslada vehiculo: Bus-1 a la hora 0.00.\n",
      "Se traslada vehiculo: Automovil-1 a la hora 0.00.\n",
      "Se traslada vehiculo: Furgoneta-1 a la hora 0.00.\n",
      "Entra vehiculo a lavarse: Automovil-1 a la hora 1.00.\n",
      "Entra vehiculo a lavarse: Furgoneta-1 a la hora 2.00.\n",
      "Entra vehiculo a lavarse: Bus-1 a la hora 4.00.\n",
      "Removido  {49%} suciedad vehiculo => Automovil-1 \n",
      "Vehiculo [Automovil-1] lavado a las 8.00.\n",
      "Se traslada vehiculo: Bus-2 a la hora 8.00.\n",
      "Llega vehiculo: Automovil-3 a la hora 11.00.\n",
      "Entra vehiculo a lavarse: Bus-2 a la hora 12.00.\n",
      "Removido  {39%} suciedad vehiculo => Furgoneta-1 \n",
      "Vehiculo [Furgoneta-1] lavado a las 14.00.\n",
      "Se traslada vehiculo: Automovil-2 a la hora 14.00.\n",
      "Entra vehiculo a lavarse: Automovil-2 a la hora 15.00.\n",
      "Removido  {72%} suciedad vehiculo => Automovil-2 \n",
      "Vehiculo [Automovil-2] lavado a las 22.00.\n",
      "Se traslada vehiculo: Furgoneta-2 a la hora 22.00.\n",
      "Llega vehiculo: Bus-4 a la hora 23.00.\n",
      "Removido  {69%} suciedad vehiculo => Bus-1 \n",
      "Vehiculo [Bus-1] lavado a las 24.00.\n",
      "Entra vehiculo a lavarse: Furgoneta-2 a la hora 24.00.\n",
      "Se traslada vehiculo: Automovil-3 a la hora 24.00.\n",
      "Entra vehiculo a lavarse: Automovil-3 a la hora 25.00.\n",
      "Llega vehiculo: Bus-5 a la hora 31.00.\n",
      "Removido  {32%} suciedad vehiculo => Bus-2 \n",
      "Removido  {73%} suciedad vehiculo => Automovil-3 \n",
      "Vehiculo [Bus-2] lavado a las 32.00.\n",
      "Vehiculo [Automovil-3] lavado a las 32.00.\n",
      "Se traslada vehiculo: Bus-4 a la hora 32.00.\n",
      "Se traslada vehiculo: Bus-5 a la hora 32.00.\n",
      "Removido  {39%} suciedad vehiculo => Furgoneta-2 \n",
      "Vehiculo [Furgoneta-2] lavado a las 36.00.\n",
      "Entra vehiculo a lavarse: Bus-4 a la hora 36.00.\n",
      "Entra vehiculo a lavarse: Bus-5 a la hora 36.00.\n",
      "Llega vehiculo: Automovil-6 a la hora 40.00.\n",
      "Se traslada vehiculo: Automovil-6 a la hora 40.00.\n",
      "Entra vehiculo a lavarse: Automovil-6 a la hora 41.00.\n",
      "Removido  {70%} suciedad vehiculo => Automovil-6 \n",
      "Vehiculo [Automovil-6] lavado a las 48.00.\n",
      "Llega vehiculo: Bus-7 a la hora 49.00.\n",
      "Se traslada vehiculo: Bus-7 a la hora 49.00.\n",
      "Entra vehiculo a lavarse: Bus-7 a la hora 53.00.\n",
      "Removido  {85%} suciedad vehiculo => Bus-4 \n",
      "Removido  {65%} suciedad vehiculo => Bus-5 \n",
      "Vehiculo [Bus-4] lavado a las 56.00.\n",
      "Vehiculo [Bus-5] lavado a las 56.00.\n",
      "Llega vehiculo: Automovil-8 a la hora 57.00.\n",
      "Se traslada vehiculo: Automovil-8 a la hora 57.00.\n",
      "Entra vehiculo a lavarse: Automovil-8 a la hora 58.00.\n",
      "Removido  {45%} suciedad vehiculo => Automovil-8 \n",
      "Vehiculo [Automovil-8] lavado a las 65.00.\n",
      "Llega vehiculo: Bus-9 a la hora 67.00.\n",
      "Se traslada vehiculo: Bus-9 a la hora 67.00.\n",
      "Entra vehiculo a lavarse: Bus-9 a la hora 71.00.\n",
      "Removido  {47%} suciedad vehiculo => Bus-7 \n",
      "Vehiculo [Bus-7] lavado a las 73.00.\n",
      "Llega vehiculo: Bus-10 a la hora 77.00.\n",
      "Se traslada vehiculo: Bus-10 a la hora 77.00.\n",
      "Entra vehiculo a lavarse: Bus-10 a la hora 81.00.\n",
      "Llega vehiculo: Furgoneta-11 a la hora 89.00.\n",
      "Se traslada vehiculo: Furgoneta-11 a la hora 89.00.\n",
      "Removido  {43%} suciedad vehiculo => Bus-9 \n",
      "Vehiculo [Bus-9] lavado a las 91.00.\n",
      "Entra vehiculo a lavarse: Furgoneta-11 a la hora 91.00.\n"
     ]
    },
    {
     "data": {
      "image/png": "[encoded data removed]",
      "text/plain": [
       "<Figure size 432x288 with 1 Axes>"
      ]
     },
     "metadata": {
      "needs_background": "light"
     },
     "output_type": "display_data"
    }
   ],
   "source": [
    "import simpy\n",
    "import random\n",
    "import matplotlib.pyplot as pp\n",
    "MAX_VEHICULOS = 57 \n",
    "NUM_MAQUINAS = 3\n",
    "TRASLADO_BUS = 4\n",
    "TRASLADO_AUTOMOVIL= 1\n",
    "TRASLADO_FURGONETA= 2\n",
    "TIEMPO_BUS = 20\n",
    "TIEMPO_AUTOMOVIL= 7\n",
    "TIEMPO_FURGONETA= 12\n",
    "INTERVALO_LLEGADA = 10\n",
    "TIEMPO_SIMULACION = 100\n",
    "tiempo={}\n",
    "\n",
    "class Lavanderia(object):\n",
    "    \n",
    "    def __init__(self, environment, num_maquinas,tiempo_bus,tiempo_automovil,\n",
    "                 tiempo_furgoneta,traslado_bus,traslado_automovil,traslado_furgoneta):\n",
    "        self.env=environment\n",
    "        self.maquinas = simpy.Resource(environment, num_maquinas)\n",
    "        self.tiempo_bus = tiempo_bus\n",
    "        self.tiempo_automovil = tiempo_automovil\n",
    "        self.tiempo_furgoneta = tiempo_furgoneta\n",
    "        self.traslado_bus = traslado_bus\n",
    "        self.traslado_automovil = traslado_automovil\n",
    "        self.traslado_furgoneta = traslado_furgoneta\n",
    "        \n",
    "    def lavar_vehiculo(self, vehiculo):\n",
    "        automotor=vehiculo.split('-')\n",
    "        if(automotor[0] == 'Bus'):\n",
    "            yield self.env.timeout(TIEMPO_BUS)\n",
    "        if(automotor[0] == 'Automovil'):\n",
    "            yield self.env.timeout(TIEMPO_AUTOMOVIL)\n",
    "        if(automotor[0] == 'Furgoneta'):\n",
    "            yield self.env.timeout(TIEMPO_FURGONETA)\n",
    "        k=automotor[0]\n",
    "        if k in tiempo:\n",
    "            tiempo[k]=tiempo[k]+1\n",
    "        else:\n",
    "            tiempo[k]=1\n",
    "        print('Removido  {%d%%} suciedad vehiculo => %s ' %(random.randint(30,90), vehiculo))\n",
    "        \n",
    "    def trasladar_vehiculo(self, vehiculo):\n",
    "        automotor=vehiculo.split('-')\n",
    "        if(automotor[0] == 'Bus'):\n",
    "            yield self.env.timeout(TRASLADO_BUS)\n",
    "        if(automotor[0] == 'Automovil'):\n",
    "            yield self.env.timeout(TRASLADO_AUTOMOVIL)\n",
    "        if(automotor[0] == 'Furgoneta'):\n",
    "            yield self.env.timeout(TRASLADO_FURGONETA)\n",
    "       \n",
    "    \n",
    "def llegada_vehiculo(env, nombre, lavanderia):\n",
    "    print('Llega vehiculo: %s a la hora %.2f.' % (nombre, env.now))\n",
    "    with lavanderia.maquinas.request() as maquina:\n",
    "        yield maquina\n",
    "        print('Se traslada vehiculo: %s a la hora %.2f.' % (nombre,env.now))\n",
    "        yield env.process(lavanderia.trasladar_vehiculo(nombre))\n",
    "        print('Entra vehiculo a lavarse: %s a la hora %.2f.' % (nombre, env.now))\n",
    "        yield env.process(lavanderia.lavar_vehiculo(nombre))\n",
    "        print('Vehiculo [%s] lavado a las %.2f.' % (nombre, env.now))  \n",
    "        \n",
    "def ejecutar_simulacion(env, num_maquinas, tiempo_bus,tiempo_automovil,\n",
    "                        tiempo_furgoneta,traslado_bus,traslado_automovil,\n",
    "                        traslado_furgoneta, intervalo):\n",
    "    lavanderia=Lavanderia(env, num_maquinas, tiempo_bus,tiempo_automovil,\n",
    "                          tiempo_furgoneta,traslado_bus,traslado_automovil,\n",
    "                          traslado_furgoneta)\n",
    "    for i in range(2):\n",
    "        env.process(llegada_vehiculo(env, 'Bus-%d'%(i+1),lavanderia))\n",
    "        env.process(llegada_vehiculo(env, 'Automovil-%d'%(i+1),lavanderia))\n",
    "        env.process(llegada_vehiculo(env, 'Furgoneta-%d'%(i+1),lavanderia))\n",
    "    while True:\n",
    "        yield env.timeout(random.randint(intervalo-3, intervalo+3))\n",
    "        i+=1\n",
    "        rnd = random.randint(1,100)\n",
    "        if rnd <= 20:\n",
    "            env.process(llegada_vehiculo(env,'Bus-%d'%(i+1),lavanderia))\n",
    "        elif rnd <= 50:\n",
    "            env.process(llegada_vehiculo(env,'Furgoneta-%d'%(i+1),lavanderia))\n",
    "        else:\n",
    "            env.process(llegada_vehiculo(env,'Automovil-%d'%(i+1),lavanderia))\n",
    "print('Lavanderia UPS')\n",
    "env=simpy.Environment()\n",
    "env.process(ejecutar_simulacion(env, NUM_MAQUINAS, TIEMPO_BUS,TIEMPO_AUTOMOVIL,\n",
    "                                TIEMPO_FURGONETA,TRASLADO_BUS,TRASLADO_AUTOMOVIL,\n",
    "                                TRASLADO_FURGONETA, INTERVALO_LLEGADA))\n",
    "env.run(until = TIEMPO_SIMULACION)\n",
    "datos=sorted(tiempo.items())\n",
    "x, y =zip(*datos)\n",
    "pp.plot(x,y,linewidth=2,color='red')\n",
    "pp.scatter(x,y,color='blue')\n",
    "pp.grid(True)\n",
    "pp.show()"
   ]
  },
  {
   "cell_type": "markdown",
   "metadata": {},
   "source": [
    "## Covid Albania"
   ]
  },
  {
   "cell_type": "code",
   "execution_count": 18,
   "metadata": {},
   "outputs": [],
   "source": [
    "import simpy\n",
    "import random\n",
    "import matplotlib.pyplot as pp\n",
    "import numpy as np\n",
    "from time import sleep\n",
    "from progress.bar import Bar\n",
    "%matplotlib inline\n",
    "from tqdm.notebook import trange, tqdm\n",
    "from time import sleep"
   ]
  },
  {
   "cell_type": "code",
   "execution_count": 19,
   "metadata": {
    "scrolled": false
   },
   "outputs": [
    {
     "name": "stdout",
     "output_type": "stream",
     "text": [
      "Covid Albania\n",
      "VALOR DE CRECIMIENTO:5\n",
      "Llega un paciente nuevo:  0 Asignado en Hospital COVID 1\n",
      "Llega un paciente nuevo:  1 Asignado en Hospital COVID 1\n",
      "Llega un paciente nuevo:  2 Asignado en Hospital COVID 1\n",
      "Llega un paciente nuevo:  3 Asignado en Hospital COVID 1\n",
      "Llega un paciente nuevo:  4 Asignado en Hospital COVID 1\n",
      "Llega un paciente nuevo:  5 Asignado en Hospital COVID 1\n",
      "Llega un paciente nuevo:  6 Asignado en Hospital COVID 1\n",
      "Llega un paciente nuevo:  7 Asignado en Hospital COVID 1\n",
      "Llega un paciente nuevo:  8 Asignado en Hospital COVID 1\n",
      "Llega un paciente nuevo:  9 Asignado en Hospital COVID 1\n",
      "Llega un paciente nuevo:  10 Asignado en Hospital COVID 1\n",
      "Llega un paciente nuevo:  11 Asignado en Hospital COVID 1\n",
      "Llega un paciente nuevo:  12 Asignado en Hospital COVID 1\n",
      "Llega un paciente nuevo:  13 Asignado en Hospital COVID 1\n",
      "Llega un paciente nuevo:  14 Asignado en Hospital COVID 1\n",
      "Llega un paciente nuevo:  15 Asignado en Hospital COVID 1\n",
      "Llega un paciente nuevo:  16 Asignado en Hospital COVID 1\n",
      "Llega un paciente nuevo:  17 Asignado en Hospital COVID 1\n",
      "Llega un paciente nuevo:  18 Asignado en Hospital COVID 1\n",
      "Llega un paciente nuevo:  19 Asignado en Hospital COVID 1\n",
      "Llega un paciente nuevo:  20 Asignado en Hospital COVID 1\n",
      "Llega un paciente nuevo:  21 Asignado en Hospital COVID 1\n",
      "Llega un paciente nuevo:  22 Asignado en Hospital COVID 1\n",
      "Llega un paciente nuevo:  23 Asignado en Hospital COVID 1\n",
      "Llega un paciente nuevo:  24 Asignado en Hospital COVID 1\n",
      "Llega un paciente nuevo:  25 Asignado en Hospital COVID 1\n",
      "Llega un paciente nuevo:  26 Asignado en Hospital COVID 1\n",
      "Llega un paciente nuevo:  27 Asignado en Hospital COVID 1\n",
      "Llega un paciente nuevo:  28 Asignado en Hospital COVID 1\n",
      "Llega un paciente nuevo:  29 Asignado en Hospital COVID 1\n",
      "Llega un paciente nuevo:  30 Asignado en Hospital COVID 1\n",
      "Llega un paciente nuevo:  31 Asignado en Hospital COVID 1\n",
      "Llega un paciente nuevo:  32 Asignado en Hospital COVID 1\n",
      "Llega un paciente nuevo:  33 Asignado en Hospital COVID 1\n",
      "Llega un paciente nuevo:  34 Asignado en Hospital COVID 1\n",
      "Llega un paciente nuevo:  35 Asignado en Hospital COVID 1\n",
      "Llega un paciente nuevo:  36 Asignado en Hospital COVID 1\n",
      "Llega un paciente nuevo:  37 Asignado en Hospital COVID 1\n",
      "Llega un paciente nuevo:  38 Asignado en Hospital COVID 1\n",
      "Llega un paciente nuevo:  39 Asignado en Hospital COVID 1\n",
      "Llega un paciente nuevo:  40 Asignado en Hospital COVID 1\n",
      "Llega un paciente nuevo:  41 Asignado en Hospital COVID 1\n",
      "Llega un paciente nuevo:  42 Asignado en Hospital COVID 1\n",
      "Llega un paciente nuevo:  43 Asignado en Hospital COVID 1\n",
      "Llega un paciente nuevo:  44 Asignado en Hospital COVID 1\n",
      "Llega un paciente nuevo:  45 Asignado en Hospital COVID 1\n",
      "Llega un paciente nuevo:  46 Asignado en Hospital COVID 1\n",
      "Llega un paciente nuevo:  47 Asignado en Hospital COVID 1\n",
      "Llega un paciente nuevo:  48 Asignado en Hospital COVID 1\n",
      "Llega un paciente nuevo:  49 Asignado en Hospital COVID 1\n",
      "Llega un paciente nuevo:  50 Asignado en Hospital COVID 1\n",
      "Llega un paciente nuevo:  51 Asignado en Hospital COVID 1\n",
      "Llega un paciente nuevo:  52 Asignado en Hospital COVID 1\n",
      "Llega un paciente nuevo:  53 Asignado en Hospital COVID 1\n",
      "Llega un paciente nuevo:  54 Asignado en Hospital COVID 1\n",
      "Llega un paciente nuevo:  55 Asignado en Hospital COVID 1\n",
      "Llega un paciente nuevo:  56 Asignado en Hospital COVID 1\n",
      "Llega un paciente nuevo:  57 Asignado en Hospital COVID 1\n",
      "Llega un paciente nuevo:  58 Asignado en Hospital COVID 1\n",
      "Llega un paciente nuevo:  59 Asignado en Hospital COVID 1\n",
      "Llega un paciente nuevo:  60 Asignado en Hospital COVID 1\n",
      "Llega un paciente nuevo:  61 Asignado en Hospital COVID 1\n",
      "Llega un paciente nuevo:  62 Asignado en Hospital COVID 1\n",
      "Llega un paciente nuevo:  63 Asignado en Hospital COVID 1\n",
      "Llega un paciente nuevo:  64 Asignado en Hospital COVID 1\n",
      "Llega un paciente nuevo:  65 Asignado en Hospital COVID 1\n",
      "Llega un paciente nuevo:  66 Asignado en Hospital COVID 1\n",
      "Llega un paciente nuevo:  67 Asignado en Hospital COVID 1\n",
      "Llega un paciente nuevo:  68 Asignado en Hospital COVID 1\n",
      "Llega un paciente nuevo:  69 Asignado en Hospital COVID 1\n",
      "Llega un paciente nuevo:  70 Asignado en Hospital COVID 1\n",
      "Llega un paciente nuevo:  71 Asignado en Hospital COVID 1\n",
      "Llega un paciente nuevo:  72 Asignado en Hospital COVID 1\n",
      "Llega un paciente nuevo:  73 Asignado en Hospital COVID 1\n",
      "Llega un paciente nuevo:  74 Asignado en Hospital COVID 1\n",
      "Llega un paciente nuevo:  75 Asignado en Hospital COVID 1\n",
      "Llega un paciente nuevo:  76 Asignado en Hospital COVID 1\n",
      "Llega un paciente nuevo:  77 Asignado en Hospital COVID 1\n",
      "Llega un paciente nuevo:  78 Asignado en Hospital COVID 1\n",
      "Llega un paciente nuevo:  79 Asignado en Hospital COVID 1\n",
      "Llega un paciente nuevo:  80 Asignado en Hospital COVID 1\n",
      "Llega un paciente nuevo:  81 Asignado en Hospital COVID 1\n",
      "Llega un paciente nuevo:  82 Asignado en Hospital COVID 1\n",
      "Llega un paciente nuevo:  83 Asignado en Hospital COVID 1\n",
      "Llega un paciente nuevo:  84 Asignado en Hospital COVID 1\n",
      "Al paciente:  0 Se le ubica en una sala con cama.\n",
      "Al paciente:  1 Se le ubica en una sala con cama.\n",
      "Al paciente:  2 Se le ubica en una sala con cama.\n",
      "Al paciente:  3 Se le ubica en una sala con cama.\n",
      "Al paciente:  4 Se le ubica en una sala con cama.\n",
      "Al paciente:  5 Se le ubica en una sala con cama.\n",
      "Al paciente:  6 Se le ubica en una sala con cama.\n",
      "Al paciente:  7 Se le ubica en una sala con cama.\n",
      "Al paciente:  8 Se le ubica en una sala con cama.\n",
      "Al paciente:  9 Se le ubica en una sala con cama.\n",
      "Al paciente:  10 Se le ubica en una sala con cama.\n",
      "Al paciente:  11 Se le ubica en una sala con cama.\n",
      "Al paciente:  12 Se le ubica en una sala con cama.\n",
      "Al paciente:  13 Se le ubica en una sala con cama.\n",
      "Al paciente:  14 Se le ubica en una sala con cama.\n",
      "Al paciente:  15 Se le ubica en una sala con cama.\n",
      "Al paciente:  16 Se le ubica en una sala con cama.\n",
      "Al paciente:  17 Se le ubica en una sala con cama.\n",
      "Al paciente:  18 Se le ubica en una sala con cama.\n",
      "Al paciente:  19 Se le ubica en una sala con cama.\n",
      "Llega un paciente nuevo:  86 Asignado en Hospital COVID 1\n",
      "Llega un paciente nuevo:  87 Asignado en Hospital COVID 1\n",
      "Llega un paciente nuevo:  88 Asignado en Hospital COVID 1\n",
      "Llega un paciente nuevo:  89 Asignado en Hospital COVID 1\n",
      "Llega un paciente nuevo:  90 Asignado en Hospital COVID 1\n",
      "El paciente  20 espero  1  dias y fallece porque no fue atendido\n",
      "El paciente  24 espero  1  dias y fallece porque no fue atendido\n",
      "El paciente  28 espero  1  dias y fallece porque no fue atendido\n",
      "El paciente  30 espero  1  dias y fallece porque no fue atendido\n",
      "El paciente  32 espero  1  dias y fallece porque no fue atendido\n",
      "El paciente  36 espero  1  dias y fallece porque no fue atendido\n",
      "El paciente  38 espero  1  dias y fallece porque no fue atendido\n",
      "El paciente  40 espero  1  dias y fallece porque no fue atendido\n",
      "El paciente  48 espero  1  dias y fallece porque no fue atendido\n",
      "El paciente  51 espero  1  dias y fallece porque no fue atendido\n",
      "El paciente  52 espero  1  dias y fallece porque no fue atendido\n",
      "El paciente  55 espero  1  dias y fallece porque no fue atendido\n",
      "El paciente  60 espero  1  dias y fallece porque no fue atendido\n",
      "El paciente  64 espero  1  dias y fallece porque no fue atendido\n",
      "El paciente  76 espero  1  dias y fallece porque no fue atendido\n",
      "El paciente  82 espero  1  dias y fallece porque no fue atendido\n",
      "El paciente  84 espero  1  dias y fallece porque no fue atendido\n",
      "Llega un paciente nuevo:  91 Asignado en Hospital COVID 1\n",
      "Llega un paciente nuevo:  92 Asignado en Hospital COVID 1\n",
      "Llega un paciente nuevo:  93 Asignado en Hospital COVID 1\n",
      "Llega un paciente nuevo:  94 Asignado en Hospital COVID 1\n",
      "Llega un paciente nuevo:  95 Asignado en Hospital COVID 1\n",
      "El paciente  23 espero  2  dias y fallece porque no fue atendido\n",
      "El paciente  25 espero  2  dias y fallece porque no fue atendido\n",
      "El paciente  33 espero  2  dias y fallece porque no fue atendido\n",
      "El paciente  39 espero  2  dias y fallece porque no fue atendido\n",
      "El paciente  42 espero  2  dias y fallece porque no fue atendido\n",
      "El paciente  46 espero  2  dias y fallece porque no fue atendido\n",
      "El paciente  50 espero  2  dias y fallece porque no fue atendido\n",
      "El paciente  53 espero  2  dias y fallece porque no fue atendido\n",
      "El paciente  56 espero  2  dias y fallece porque no fue atendido\n",
      "El paciente  59 espero  2  dias y fallece porque no fue atendido\n",
      "El paciente  63 espero  2  dias y fallece porque no fue atendido\n",
      "El paciente  66 espero  2  dias y fallece porque no fue atendido\n",
      "El paciente  68 espero  2  dias y fallece porque no fue atendido\n",
      "El paciente  70 espero  2  dias y fallece porque no fue atendido\n",
      "El paciente  72 espero  2  dias y fallece porque no fue atendido\n",
      "El paciente  77 espero  2  dias y fallece porque no fue atendido\n",
      "El paciente  78 espero  2  dias y fallece porque no fue atendido\n",
      "El paciente  80 espero  2  dias y fallece porque no fue atendido\n",
      "El paciente  83 espero  2  dias y fallece porque no fue atendido\n",
      "El paciente  86 espero  1  dias y fallece porque no fue atendido\n",
      "El paciente  89 espero  1  dias y fallece porque no fue atendido\n",
      "El paciente  90 espero  1  dias y fallece porque no fue atendido\n",
      "Llega un paciente nuevo:  96 Asignado en Hospital COVID 1\n",
      "Llega un paciente nuevo:  97 Asignado en Hospital COVID 1\n",
      "Llega un paciente nuevo:  98 Asignado en Hospital COVID 1\n",
      "Llega un paciente nuevo:  99 Asignado en Hospital COVID 1\n",
      "Llega un paciente nuevo:  100 Asignado en Hospital COVID 1\n",
      "El paciente  21 espero  3  dias y fallece porque no fue atendido\n",
      "El paciente  22 espero  3  dias y fallece porque no fue atendido\n",
      "El paciente  26 espero  3  dias y fallece porque no fue atendido\n",
      "El paciente  27 espero  3  dias y fallece porque no fue atendido\n",
      "El paciente  29 espero  3  dias y fallece porque no fue atendido\n",
      "El paciente  31 espero  3  dias y fallece porque no fue atendido\n",
      "El paciente  34 espero  3  dias y fallece porque no fue atendido\n",
      "El paciente  35 espero  3  dias y fallece porque no fue atendido\n",
      "El paciente  37 espero  3  dias y fallece porque no fue atendido\n",
      "El paciente  41 espero  3  dias y fallece porque no fue atendido\n",
      "El paciente  43 espero  3  dias y fallece porque no fue atendido\n",
      "El paciente  44 espero  3  dias y fallece porque no fue atendido\n",
      "El paciente  45 espero  3  dias y fallece porque no fue atendido\n",
      "El paciente  47 espero  3  dias y fallece porque no fue atendido\n",
      "El paciente  49 espero  3  dias y fallece porque no fue atendido\n",
      "El paciente  54 espero  3  dias y fallece porque no fue atendido\n",
      "El paciente  57 espero  3  dias y fallece porque no fue atendido\n",
      "El paciente  58 espero  3  dias y fallece porque no fue atendido\n",
      "El paciente  61 espero  3  dias y fallece porque no fue atendido\n",
      "El paciente  62 espero  3  dias y fallece porque no fue atendido\n",
      "El paciente  65 espero  3  dias y fallece porque no fue atendido\n",
      "El paciente  67 espero  3  dias y fallece porque no fue atendido\n",
      "El paciente  69 espero  3  dias y fallece porque no fue atendido\n",
      "El paciente  71 espero  3  dias y fallece porque no fue atendido\n",
      "El paciente  73 espero  3  dias y fallece porque no fue atendido\n",
      "El paciente  74 espero  3  dias y fallece porque no fue atendido\n",
      "El paciente  75 espero  3  dias y fallece porque no fue atendido\n",
      "El paciente  79 espero  3  dias y fallece porque no fue atendido\n",
      "El paciente  81 espero  3  dias y fallece porque no fue atendido\n",
      "El paciente  88 espero  2  dias y fallece porque no fue atendido\n",
      "El paciente  93 espero  1  dias y fallece porque no fue atendido\n",
      "El paciente  94 espero  1  dias y fallece porque no fue atendido\n",
      "Llega un paciente nuevo:  101 Asignado en Hospital COVID 1\n",
      "Llega un paciente nuevo:  102 Asignado en Hospital COVID 1\n",
      "Llega un paciente nuevo:  103 Asignado en Hospital COVID 1\n",
      "Llega un paciente nuevo:  104 Asignado en Hospital COVID 1\n",
      "Llega un paciente nuevo:  105 Asignado en Hospital COVID 1\n",
      "El paciente  87 espero  3  dias y fallece porque no fue atendido\n",
      "El paciente  97 espero  1  dias y fallece porque no fue atendido\n",
      "Llega un paciente nuevo:  106 Asignado en Hospital COVID 1\n",
      "Llega un paciente nuevo:  107 Asignado en Hospital COVID 1\n",
      "Llega un paciente nuevo:  108 Asignado en Hospital COVID 1\n",
      "Llega un paciente nuevo:  109 Asignado en Hospital COVID 1\n",
      "Llega un paciente nuevo:  110 Asignado en Hospital COVID 1\n",
      "El paciente  91 espero  3  dias y fallece porque no fue atendido\n",
      "El paciente  92 espero  3  dias y fallece porque no fue atendido\n",
      "El paciente  95 espero  3  dias y fallece porque no fue atendido\n",
      "El paciente  96 espero  2  dias y fallece porque no fue atendido\n",
      "El paciente  98 espero  2  dias y fallece porque no fue atendido\n",
      "El paciente  99 espero  2  dias y fallece porque no fue atendido\n",
      "El paciente  100 espero  2  dias y fallece porque no fue atendido\n",
      "El paciente  102 espero  1  dias y fallece porque no fue atendido\n",
      "El paciente  104 espero  1  dias y fallece porque no fue atendido\n",
      "Llega un paciente nuevo:  111 Asignado en Hospital COVID 1\n",
      "Llega un paciente nuevo:  112 Asignado en Hospital COVID 1\n",
      "Llega un paciente nuevo:  113 Asignado en Hospital COVID 1\n",
      "Llega un paciente nuevo:  114 Asignado en Hospital COVID 1\n",
      "Llega un paciente nuevo:  115 Asignado en Hospital COVID 1\n",
      "El paciente  101 espero  2  dias y fallece porque no fue atendido\n",
      "El paciente  103 espero  2  dias y fallece porque no fue atendido\n",
      "El paciente  105 espero  2  dias y fallece porque no fue atendido\n",
      "El paciente  106 espero  1  dias y fallece porque no fue atendido\n",
      "El paciente  108 espero  1  dias y fallece porque no fue atendido\n",
      "Llega un paciente nuevo:  116 Asignado en Hospital COVID 1\n",
      "Llega un paciente nuevo:  117 Asignado en Hospital COVID 1\n",
      "Llega un paciente nuevo:  118 Asignado en Hospital COVID 1\n",
      "Llega un paciente nuevo:  119 Asignado en Hospital COVID 1\n",
      "Llega un paciente nuevo:  120 Asignado en Hospital COVID 1\n",
      "El paciente  110 espero  2  dias y fallece porque no fue atendido\n",
      "El paciente  111 espero  1  dias y fallece porque no fue atendido\n",
      "El paciente  112 espero  1  dias y fallece porque no fue atendido\n",
      "El paciente  113 espero  1  dias y fallece porque no fue atendido\n",
      "El paciente  115 espero  1  dias y fallece porque no fue atendido\n",
      "Llega un paciente nuevo:  121 Asignado en Hospital COVID 1\n",
      "Llega un paciente nuevo:  122 Asignado en Hospital COVID 1\n",
      "Llega un paciente nuevo:  123 Asignado en Hospital COVID 1\n",
      "Llega un paciente nuevo:  124 Asignado en Hospital COVID 1\n",
      "Llega un paciente nuevo:  125 Asignado en Hospital COVID 1\n",
      "El paciente  107 espero  3  dias y fallece porque no fue atendido\n",
      "El paciente  109 espero  3  dias y fallece porque no fue atendido\n",
      "El paciente  114 espero  2  dias y fallece porque no fue atendido\n",
      "El paciente  116 espero  1  dias y fallece porque no fue atendido\n",
      "El paciente  117 espero  1  dias y fallece porque no fue atendido\n",
      "El paciente  118 espero  1  dias y fallece porque no fue atendido\n",
      "El paciente  120 espero  1  dias y fallece porque no fue atendido\n",
      "Llega un paciente nuevo:  126 Asignado en Hospital COVID 1\n",
      "Llega un paciente nuevo:  127 Asignado en Hospital COVID 1\n",
      "Llega un paciente nuevo:  128 Asignado en Hospital COVID 1\n",
      "Llega un paciente nuevo:  129 Asignado en Hospital COVID 1\n",
      "Llega un paciente nuevo:  130 Asignado en Hospital COVID 1\n",
      "El paciente  119 espero  2  dias y fallece porque no fue atendido\n",
      "El paciente  123 espero  1  dias y fallece porque no fue atendido\n",
      "El paciente  124 espero  1  dias y fallece porque no fue atendido\n",
      "El paciente  1  espero 13729 minutos para se atendido\n",
      "El paciente  1  no tiene COVID-19\n",
      "Al paciente:  121 Se le ubica en una sala con cama.\n",
      "El paciente  6  espero 13731 minutos para se atendido\n",
      "El paciente  6  no tiene COVID-19\n",
      "Al paciente:  122 Se le ubica en una sala con cama.\n",
      "El paciente  3  espero 13765 minutos para se atendido\n",
      "El paciente  3  no tiene COVID-19\n",
      "Al paciente:  125 Se le ubica en una sala con cama.\n",
      "El paciente  9  espero 13817 minutos para se atendido\n",
      "El paciente  9  no tiene COVID-19\n",
      "Al paciente:  126 Se le ubica en una sala con cama.\n",
      "El paciente  12  espero 13930 minutos para se atendido\n",
      "El paciente  12  no tiene COVID-19\n",
      "Al paciente:  127 Se le ubica en una sala con cama.\n",
      "El paciente  10  espero 14004 minutos para se atendido\n",
      "El paciente  10  no tiene COVID-19\n",
      "Al paciente:  128 Se le ubica en una sala con cama.\n",
      "El paciente  11  espero 14058 minutos para se atendido\n",
      "Al paciente:  11  se le asigna una cama\n",
      "El paciente  13  espero 14255 minutos para se atendido\n",
      "El paciente  13  no tiene COVID-19\n",
      "Al paciente:  129 Se le ubica en una sala con cama.\n",
      "El paciente  7  espero 14261 minutos para se atendido\n",
      "El paciente  7  no tiene COVID-19\n",
      "Al paciente:  130 Se le ubica en una sala con cama.\n",
      "El paciente  0  espero 14282 minutos para se atendido\n",
      "Al paciente:  0  se le asigna una cama\n",
      "El paciente  14  espero 14337 minutos para se atendido\n",
      "Al paciente:  14  se le asigna una cama\n",
      "El paciente  5  espero 14353 minutos para se atendido\n",
      "El paciente  5  no tiene COVID-19\n"
     ]
    },
    {
     "data": {
      "application/vnd.jupyter.widget-view+json": {
       "model_id": "a198a1f1cbd6481f9428259140e0c199",
       "version_major": 2,
       "version_minor": 0
      },
      "text/plain": [
       "HBox(children=(FloatProgress(value=0.0, max=10.0), HTML(value='')))"
      ]
     },
     "metadata": {},
     "output_type": "display_data"
    },
    {
     "data": {
      "application/vnd.jupyter.widget-view+json": {
       "model_id": "e821287d5c094196a205bb3137e398ad",
       "version_major": 2,
       "version_minor": 0
      },
      "text/plain": [
       "HBox(children=(FloatProgress(value=0.0, max=3.0), HTML(value='')))"
      ]
     },
     "metadata": {},
     "output_type": "display_data"
    },
    {
     "name": "stdout",
     "output_type": "stream",
     "text": [
      "\n"
     ]
    },
    {
     "data": {
      "application/vnd.jupyter.widget-view+json": {
       "model_id": "c471379e42054ef4a4f2a690ef6b19d2",
       "version_major": 2,
       "version_minor": 0
      },
      "text/plain": [
       "HBox(children=(FloatProgress(value=0.0, max=3.0), HTML(value='')))"
      ]
     },
     "metadata": {},
     "output_type": "display_data"
    },
    {
     "name": "stdout",
     "output_type": "stream",
     "text": [
      "\n"
     ]
    },
    {
     "data": {
      "application/vnd.jupyter.widget-view+json": {
       "model_id": "2e737e5961034b1585c7c718d15a5f78",
       "version_major": 2,
       "version_minor": 0
      },
      "text/plain": [
       "HBox(children=(FloatProgress(value=0.0, max=3.0), HTML(value='')))"
      ]
     },
     "metadata": {},
     "output_type": "display_data"
    },
    {
     "name": "stdout",
     "output_type": "stream",
     "text": [
      "\n"
     ]
    },
    {
     "data": {
      "application/vnd.jupyter.widget-view+json": {
       "model_id": "eff983741f44464f87deee95336c3e2e",
       "version_major": 2,
       "version_minor": 0
      },
      "text/plain": [
       "HBox(children=(FloatProgress(value=0.0, max=3.0), HTML(value='')))"
      ]
     },
     "metadata": {},
     "output_type": "display_data"
    },
    {
     "name": "stdout",
     "output_type": "stream",
     "text": [
      "\n"
     ]
    },
    {
     "data": {
      "application/vnd.jupyter.widget-view+json": {
       "model_id": "2f0f37ae89dc4d4eb916e41ed2c6c79d",
       "version_major": 2,
       "version_minor": 0
      },
      "text/plain": [
       "HBox(children=(FloatProgress(value=0.0, max=3.0), HTML(value='')))"
      ]
     },
     "metadata": {},
     "output_type": "display_data"
    },
    {
     "name": "stdout",
     "output_type": "stream",
     "text": [
      "\n"
     ]
    },
    {
     "data": {
      "application/vnd.jupyter.widget-view+json": {
       "model_id": "4e53a50b9cd94bc3812dbb76e94ca696",
       "version_major": 2,
       "version_minor": 0
      },
      "text/plain": [
       "HBox(children=(FloatProgress(value=0.0, max=3.0), HTML(value='')))"
      ]
     },
     "metadata": {},
     "output_type": "display_data"
    },
    {
     "name": "stdout",
     "output_type": "stream",
     "text": [
      "\n"
     ]
    },
    {
     "data": {
      "application/vnd.jupyter.widget-view+json": {
       "model_id": "9dd4862946ff423caa8a2d964e3aae34",
       "version_major": 2,
       "version_minor": 0
      },
      "text/plain": [
       "HBox(children=(FloatProgress(value=0.0, max=3.0), HTML(value='')))"
      ]
     },
     "metadata": {},
     "output_type": "display_data"
    },
    {
     "name": "stdout",
     "output_type": "stream",
     "text": [
      "\n"
     ]
    },
    {
     "data": {
      "application/vnd.jupyter.widget-view+json": {
       "model_id": "f278218e8c8c4e7d9351094c36afc20b",
       "version_major": 2,
       "version_minor": 0
      },
      "text/plain": [
       "HBox(children=(FloatProgress(value=0.0, max=3.0), HTML(value='')))"
      ]
     },
     "metadata": {},
     "output_type": "display_data"
    },
    {
     "name": "stdout",
     "output_type": "stream",
     "text": [
      "\n"
     ]
    },
    {
     "data": {
      "application/vnd.jupyter.widget-view+json": {
       "model_id": "a4e06fbcc6fd45fda8846c37f942fd4a",
       "version_major": 2,
       "version_minor": 0
      },
      "text/plain": [
       "HBox(children=(FloatProgress(value=0.0, max=3.0), HTML(value='')))"
      ]
     },
     "metadata": {},
     "output_type": "display_data"
    },
    {
     "name": "stdout",
     "output_type": "stream",
     "text": [
      "\n"
     ]
    },
    {
     "data": {
      "application/vnd.jupyter.widget-view+json": {
       "model_id": "e1665f6727db45faaf1e97e3bf59edf7",
       "version_major": 2,
       "version_minor": 0
      },
      "text/plain": [
       "HBox(children=(FloatProgress(value=0.0, max=3.0), HTML(value='')))"
      ]
     },
     "metadata": {},
     "output_type": "display_data"
    },
    {
     "name": "stdout",
     "output_type": "stream",
     "text": [
      "\n",
      "\n"
     ]
    },
    {
     "data": {
      "image/png": "[encoded data removed]",
      "text/plain": [
       "<Figure size 432x288 with 1 Axes>"
      ]
     },
     "metadata": {
      "needs_background": "light"
     },
     "output_type": "display_data"
    },
    {
     "name": "stdout",
     "output_type": "stream",
     "text": [
      "Recuperados: \n",
      "45\n",
      "Fallecidos: \n",
      "0\n"
     ]
    }
   ],
   "source": [
    "contagiados = 85\n",
    "tiempoConsulta = 10  \n",
    "internado = 10\n",
    "simulacion = 10\n",
    "recuperados={}\n",
    "muertos={}\n",
    "tConsultas=[]\n",
    "TiempoEsperaConsultorio=[]\n",
    "pacienteMuertosSinAntencionM=[]\n",
    "pacientesAtendidos=[]\n",
    "\n",
    "class SimulacionHospSTereza(object):\n",
    "    def __init__(self, env, num_cama,num_consultorios, name):\n",
    "            self.env = env\n",
    "            self.num_cama = num_cama\n",
    "            self.num_consultorios=num_consultorios\n",
    "            self.camas = simpy.Resource(env, num_cama)\n",
    "            self.consultorios=simpy.Resource(env, num_consultorios)\n",
    "            self.name = name\n",
    "    def ingresarConsultorio(self,paciente):\n",
    "        consulta=random.uniform(tiempoConsulta-0.5, tiempoConsulta+0.5)\n",
    "        yield self.env.timeout(consulta)\n",
    "        print(\"El paciente \", paciente, \" espero\", int(consulta*1440), \"minutos para se atendido\")\n",
    "        tConsultas.append(consulta)\n",
    "        \n",
    "    def PacienteCama(self, paciente):\n",
    "        yield self.env.timeout(random.randint(internado-1.0, internado+1.0))\n",
    "        print(\"El paciente \", paciente, \" fue internado el día \", int(self.env.now))\n",
    "\n",
    "def llegada_paciente(env, hospital, paciente):\n",
    "    arrive = env.now\n",
    "    with hospital.consultorios.request() as consultorio:\n",
    "        esperandoConsulta=random.randint(1,3)\n",
    "        TiempoEsperaConsultorio.append(esperandoConsulta)\n",
    "        reque2 = yield consultorio | env.timeout(esperandoConsulta)\n",
    "        espera2 = env.now - arrive\n",
    "        if consultorio in reque2:\n",
    "            print(\"Al paciente: \", paciente, \"Se le ubica en una sala con cama.\")\n",
    "            yield env.process(hospital.ingresarConsultorio(paciente))\n",
    "            estado = random.randint(1,100)\n",
    "            pacientesAtendidos.append(1)\n",
    "            if(estado < 40):\n",
    "                with hospital.camas.request() as cama:\n",
    "                    arrive2 = env.now\n",
    "                    dias_esperando = random.randint(1,5) \n",
    "                    requerimiento = yield cama | env.timeout(dias_esperando) # tiempo de espera\n",
    "                    espera = env.now - arrive2\n",
    "                    if cama in requerimiento:\n",
    "                        print(\"Al paciente: \", paciente, \" se le asigna una cama\")\n",
    "                        yield env.process(hospital.PacienteCama(paciente))\n",
    "                        estado = random.randint(1,100)\n",
    "                        if (estado < 8) :\n",
    "                            muertos[env.now] = muertos[env.now] + 1 if env.now in muertos else  1\n",
    "                        else:\n",
    "                            recuperados[env.now] = recuperados[env.now] + 1 if env.now in recuperados else 1\n",
    "                    else:\n",
    "                        print(\"El paciente \" , paciente, \" espero \", int(espera) , \" dias y fallece por la falta de camas\")\n",
    "                        muertos[env.now] = muertos[env.now] + 1 if env.now in muertos else  1\n",
    "            else :\n",
    "                print(\"El paciente \", paciente, \" no tiene COVID-19\" )\n",
    "        else:\n",
    "            print(\"El paciente \" , paciente, \"espero \", int(espera2) ,\" dias y fallece porque no fue atendido\")\n",
    "            pacienteMuertosSinAntencionM.append(1)\n",
    "            muertos[env.now] = muertos[env.now] + 1 if env.now in muertos else  1\n",
    "def run(env, tasacrecimiento, infectados):\n",
    "    numeroCamas= 42\n",
    "    numeroConsultorios = 20\n",
    "    hospSTereza = SimulacionHospSTereza(env, numeroCamas,numeroConsultorios, \"Hospital COVID 1\")\n",
    "    for i in range(infectados):\n",
    "        asignar_hospital(env, hospSTereza, i)\n",
    "    paciente = infectados\n",
    "    while True:\n",
    "        yield env.timeout(1)\n",
    "        for i in range(tasacrecimiento):\n",
    "            paciente += 1\n",
    "            asignar_hospital(env, hospSTereza, paciente)\n",
    "                \n",
    "def asignar_hospital(env, hospSTereza, paciente):\n",
    "    hosp_esc = 1\n",
    "    if (hosp_esc == 1):\n",
    "        print(\"Llega un paciente nuevo: \", paciente, \"Asignado en Hospital COVID 1\")\n",
    "        env.process(llegada_paciente(env, hospSTereza, paciente))\n",
    "\n",
    "print(\"Covid Albania\")\n",
    "entrada = int(input(\"VALOR DE CRECIMIENTO:\"))\n",
    "env=simpy.Environment()\n",
    "env.process(run(env,entrada, contagiados))\n",
    "env.run(until=simulacion)\n",
    "for i in trange(simulacion):\n",
    "    for j in tqdm(range(3)):\n",
    "        sleep(0.001)\n",
    "\n",
    "datos=sorted(muertos.items())\n",
    "x, y =zip(*datos)\n",
    "pp.plot(x,y,linewidth=2,color='y')\n",
    "pp.scatter(x,y,color='g')\n",
    "pp.title(\"Personas Fallecidas  / Dias de hospitalizacion\")\n",
    "pp.grid(True)\n",
    "pp.show()\n",
    "print(\"Recuperados: \")\n",
    "print(round(sum(muertos)))\n",
    "print(\"Fallecidos: \")\n",
    "print(round(sum(recuperados)))"
   ]
  },
  {
   "cell_type": "markdown",
   "metadata": {},
   "source": [
    "### Conclusion"
   ]
  },
  {
   "cell_type": "markdown",
   "metadata": {},
   "source": [
    "Simpy nos ayuda a simular eventos discretos y con ello predecir la atencion que recibiran los pacientes con covid en los hospitales"
   ]
  }
 ],
 "metadata": {
  "kernelspec": {
   "display_name": "Python 3",
   "language": "python",
   "name": "python3"
  },
  "language_info": {
   "codemirror_mode": {
    "name": "ipython",
    "version": 3
   },
   "file_extension": ".py",
   "mimetype": "text/x-python",
   "name": "python",
   "nbconvert_exporter": "python",
   "pygments_lexer": "ipython3",
   "version": "3.7.6"
  }
 },
 "nbformat": 4,
 "nbformat_minor": 2
}
