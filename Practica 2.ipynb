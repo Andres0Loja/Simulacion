{
 "cells": [
  {
   "cell_type": "markdown",
   "metadata": {},
   "source": [
    "# Regresion Lineal"
   ]
  },
  {
   "cell_type": "markdown",
   "metadata": {},
   "source": [
    "En estadística la regresión lineal o ajuste lineal es un modelo matemático usado para aproximar la relación de dependencia entre una variable dependiente Y, las variables independientes X y un término aleatorio e.\n",
    "Para hacer una estimación del modelo de regresión lineal simple, trataremos de buscar una recta de la forma: de modo que se ajuste a la nube de puntos. Para esto utilizaremos el método de mínimos cuadrados. Este método consiste en minimizarla suma de los cuadrados de los errores: Es decir, la suma de los cuadrados de las diferencias entre los valores reales observados (yi) y los valores estimados (ˆiy)."
   ]
  },
  {
   "cell_type": "markdown",
   "metadata": {},
   "source": [
    "## Aplicacion"
   ]
  },
  {
   "cell_type": "markdown",
   "metadata": {},
   "source": [
    "A nivel experimental, la correlación se suele emplear cuando ninguna de las variables se ha controlado, simplemente se han medido ambas y se desea saber si están relacionadas. En el caso de estudios de regresión lineal, es más común que una de las variables se controle (tiempo, concentración de reactivo, temperatura…) y se mida la otra."
   ]
  },
  {
   "cell_type": "markdown",
   "metadata": {},
   "source": [
    "Un ejemplo practico seria la utilizacion de la regresion lineal para predecir la mortalidad que existe en una poblacion al enfrentarse a un nuevo virus"
   ]
  },
  {
   "cell_type": "code",
   "execution_count": 9,
   "metadata": {},
   "outputs": [
    {
     "name": "stdout",
     "output_type": "stream",
     "text": [
      "CALCULO DE REGRESION LINEAL\n",
      "ESCRIBA SU EDAD: 25\n",
      "Prediccion:  33.2\n"
     ]
    },
    {
     "data": {
      "image/png": "[encoded data removed]",
      "text/plain": [
       "<Figure size 432x288 with 1 Axes>"
      ]
     },
     "metadata": {
      "needs_background": "light"
     },
     "output_type": "display_data"
    }
   ],
   "source": [
    "import matplotlib.pyplot as plt\n",
    "import numpy as np\n",
    "\n",
    "def promedio(x,y): \n",
    "    return sum(x) / len(y)\n",
    "\n",
    "def operacion1(x,y):\n",
    "    ter1 = x-np.average(x)\n",
    "    ter2 = y-np.average(y)\n",
    "    sxy = sum(ter1*ter2)\n",
    "    sxx = sum(ter1*ter1)\n",
    "    resp =sxy/sxx\n",
    "    #print(\"--->\",resp)\n",
    "    return resp\n",
    "\n",
    "def operacion0(x,y):\n",
    "    res = np.average(y)-operacion1(x,y)*np.average(x)\n",
    "    return res\n",
    "\n",
    "def graficar(x,y,z):\n",
    "    b1 =operacion1(x,y)\n",
    "    b0 =operacion0(x,y)\n",
    "    predecir= b1*z+b0\n",
    "    #print('**.',b1,b0,predecir)\n",
    "    puntos_x = np.linspace(x[0],x[-1],6)\n",
    "    puntos_y = b0+b1*puntos_x\n",
    "    print('Prediccion: ',predecir)\n",
    "    plt.plot(puntos_x,puntos_y,)\n",
    "    plt.plot(x,y,\"o\") \n",
    "    plt.xlabel('Eje X')\n",
    "    plt.ylabel('Eje Y')\n",
    "    \n",
    "    plt.show()\n",
    "    \n",
    "if __name__==\"__main__\":\n",
    "    print(\"CALCULO DE REGRESION LINEAL\")\n",
    "    z=cantidad = float(input(\"ESCRIBA SU EDAD: \"))\n",
    "    x=[1,2,3,4,5]\n",
    "    y=[2,3,5,6,7]\n",
    "    graficar(x,y,z)"
   ]
  },
  {
   "cell_type": "markdown",
   "metadata": {},
   "source": [
    "## Conclusion"
   ]
  },
  {
   "cell_type": "markdown",
   "metadata": {},
   "source": [
    "Mediante la aplicacion de regresion lineal podemos obtener una prediccion exacta de cual sera el siguiente valor al que tiende la recta."
   ]
  },
  {
   "cell_type": "markdown",
   "metadata": {},
   "source": [
    "La libreria matplot nos permite ver de forma grafica el error que tiene la regresion"
   ]
  }
 ],
 "metadata": {
  "kernelspec": {
   "display_name": "Python 3",
   "language": "python",
   "name": "python3"
  },
  "language_info": {
   "codemirror_mode": {
    "name": "ipython",
    "version": 3
   },
   "file_extension": ".py",
   "mimetype": "text/x-python",
   "name": "python",
   "nbconvert_exporter": "python",
   "pygments_lexer": "ipython3",
   "version": "3.7.6"
  }
 },
 "nbformat": 4,
 "nbformat_minor": 4
}
